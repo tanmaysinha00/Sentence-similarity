{
 "cells": [
  {
   "cell_type": "code",
   "execution_count": 79,
   "metadata": {},
   "outputs": [],
   "source": [
    "import pandas as pd\n",
    "import numpy as np\n",
    "from tqdm import tqdm\n",
    "from keras.utils import np_utils\n",
    "from sklearn import preprocessing\n",
    "from sklearn import  metrics\n",
    "from keras.preprocessing import sequence, text\n",
    "from nltk import word_tokenize\n",
    "from sklearn.preprocessing import LabelEncoder\n",
    "from nltk.corpus import stopwords\n",
    "from tensorflow.keras.models import Sequential\n",
    "from tensorflow.keras.layers import Dense\n",
    "from tensorflow.keras.layers import LSTM\n",
    "from tensorflow.keras.layers import Concatenate\n",
    "from sklearn.model_selection import train_test_split\n",
    "from tensorflow.keras.layers import Add\n",
    "from tensorflow.keras.models import Model\n",
    "from tensorflow.keras.optimizers import RMSprop,Adam\n",
    "import tensorflow as tf\n",
    "stop_words = stopwords.words('english')"
   ]
  },
  {
   "cell_type": "code",
   "execution_count": 80,
   "metadata": {},
   "outputs": [],
   "source": [
    "df = pd.read_csv('sentence_similarity_dataset.txt',delimiter=\"\\t\",  names=[\"sentence1\", \"sentence2\", \"score\",\"relation\"])"
   ]
  },
  {
   "cell_type": "code",
   "execution_count": 81,
   "metadata": {},
   "outputs": [
    {
     "data": {
      "text/html": [
       "<div>\n",
       "<style scoped>\n",
       "    .dataframe tbody tr th:only-of-type {\n",
       "        vertical-align: middle;\n",
       "    }\n",
       "\n",
       "    .dataframe tbody tr th {\n",
       "        vertical-align: top;\n",
       "    }\n",
       "\n",
       "    .dataframe thead th {\n",
       "        text-align: right;\n",
       "    }\n",
       "</style>\n",
       "<table border=\"1\" class=\"dataframe\">\n",
       "  <thead>\n",
       "    <tr style=\"text-align: right;\">\n",
       "      <th></th>\n",
       "      <th>sentence1</th>\n",
       "      <th>sentence2</th>\n",
       "      <th>score</th>\n",
       "      <th>relation</th>\n",
       "    </tr>\n",
       "  </thead>\n",
       "  <tbody>\n",
       "    <tr>\n",
       "      <th>1</th>\n",
       "      <td>A group of kids is playing in a yard and an ol...</td>\n",
       "      <td>A group of boys in a yard is playing and a man...</td>\n",
       "      <td>4.5</td>\n",
       "      <td>NEUTRAL</td>\n",
       "    </tr>\n",
       "    <tr>\n",
       "      <th>2</th>\n",
       "      <td>A group of children is playing in the house an...</td>\n",
       "      <td>A group of kids is playing in a yard and an ol...</td>\n",
       "      <td>3.2</td>\n",
       "      <td>NEUTRAL</td>\n",
       "    </tr>\n",
       "    <tr>\n",
       "      <th>3</th>\n",
       "      <td>The young boys are playing outdoors and the ma...</td>\n",
       "      <td>The kids are playing outdoors near a man with ...</td>\n",
       "      <td>4.7</td>\n",
       "      <td>ENTAILMENT</td>\n",
       "    </tr>\n",
       "    <tr>\n",
       "      <th>5</th>\n",
       "      <td>The kids are playing outdoors near a man with ...</td>\n",
       "      <td>A group of kids is playing in a yard and an ol...</td>\n",
       "      <td>3.4</td>\n",
       "      <td>NEUTRAL</td>\n",
       "    </tr>\n",
       "    <tr>\n",
       "      <th>9</th>\n",
       "      <td>The young boys are playing outdoors and the ma...</td>\n",
       "      <td>A group of kids is playing in a yard and an ol...</td>\n",
       "      <td>3.7</td>\n",
       "      <td>NEUTRAL</td>\n",
       "    </tr>\n",
       "  </tbody>\n",
       "</table>\n",
       "</div>"
      ],
      "text/plain": [
       "                                           sentence1  \\\n",
       "1  A group of kids is playing in a yard and an ol...   \n",
       "2  A group of children is playing in the house an...   \n",
       "3  The young boys are playing outdoors and the ma...   \n",
       "5  The kids are playing outdoors near a man with ...   \n",
       "9  The young boys are playing outdoors and the ma...   \n",
       "\n",
       "                                           sentence2  score    relation  \n",
       "1  A group of boys in a yard is playing and a man...    4.5     NEUTRAL  \n",
       "2  A group of kids is playing in a yard and an ol...    3.2     NEUTRAL  \n",
       "3  The kids are playing outdoors near a man with ...    4.7  ENTAILMENT  \n",
       "5  A group of kids is playing in a yard and an ol...    3.4     NEUTRAL  \n",
       "9  A group of kids is playing in a yard and an ol...    3.7     NEUTRAL  "
      ]
     },
     "execution_count": 81,
     "metadata": {},
     "output_type": "execute_result"
    }
   ],
   "source": [
    "df.head()"
   ]
  },
  {
   "cell_type": "code",
   "execution_count": 82,
   "metadata": {},
   "outputs": [],
   "source": [
    " df['relation'].replace({'NEUTRAL': 'NON CONTRADICTION','ENTAILMENT' : 'NON CONTRADICTION'}, inplace=True)"
   ]
  },
  {
   "cell_type": "code",
   "execution_count": 83,
   "metadata": {},
   "outputs": [
    {
     "data": {
      "text/html": [
       "<div>\n",
       "<style scoped>\n",
       "    .dataframe tbody tr th:only-of-type {\n",
       "        vertical-align: middle;\n",
       "    }\n",
       "\n",
       "    .dataframe tbody tr th {\n",
       "        vertical-align: top;\n",
       "    }\n",
       "\n",
       "    .dataframe thead th {\n",
       "        text-align: right;\n",
       "    }\n",
       "</style>\n",
       "<table border=\"1\" class=\"dataframe\">\n",
       "  <thead>\n",
       "    <tr style=\"text-align: right;\">\n",
       "      <th></th>\n",
       "      <th>sentence1</th>\n",
       "      <th>sentence2</th>\n",
       "      <th>score</th>\n",
       "      <th>relation</th>\n",
       "    </tr>\n",
       "  </thead>\n",
       "  <tbody>\n",
       "    <tr>\n",
       "      <th>1</th>\n",
       "      <td>A group of kids is playing in a yard and an ol...</td>\n",
       "      <td>A group of boys in a yard is playing and a man...</td>\n",
       "      <td>4.5</td>\n",
       "      <td>NON CONTRADICTION</td>\n",
       "    </tr>\n",
       "    <tr>\n",
       "      <th>2</th>\n",
       "      <td>A group of children is playing in the house an...</td>\n",
       "      <td>A group of kids is playing in a yard and an ol...</td>\n",
       "      <td>3.2</td>\n",
       "      <td>NON CONTRADICTION</td>\n",
       "    </tr>\n",
       "    <tr>\n",
       "      <th>3</th>\n",
       "      <td>The young boys are playing outdoors and the ma...</td>\n",
       "      <td>The kids are playing outdoors near a man with ...</td>\n",
       "      <td>4.7</td>\n",
       "      <td>NON CONTRADICTION</td>\n",
       "    </tr>\n",
       "    <tr>\n",
       "      <th>5</th>\n",
       "      <td>The kids are playing outdoors near a man with ...</td>\n",
       "      <td>A group of kids is playing in a yard and an ol...</td>\n",
       "      <td>3.4</td>\n",
       "      <td>NON CONTRADICTION</td>\n",
       "    </tr>\n",
       "    <tr>\n",
       "      <th>9</th>\n",
       "      <td>The young boys are playing outdoors and the ma...</td>\n",
       "      <td>A group of kids is playing in a yard and an ol...</td>\n",
       "      <td>3.7</td>\n",
       "      <td>NON CONTRADICTION</td>\n",
       "    </tr>\n",
       "  </tbody>\n",
       "</table>\n",
       "</div>"
      ],
      "text/plain": [
       "                                           sentence1  \\\n",
       "1  A group of kids is playing in a yard and an ol...   \n",
       "2  A group of children is playing in the house an...   \n",
       "3  The young boys are playing outdoors and the ma...   \n",
       "5  The kids are playing outdoors near a man with ...   \n",
       "9  The young boys are playing outdoors and the ma...   \n",
       "\n",
       "                                           sentence2  score           relation  \n",
       "1  A group of boys in a yard is playing and a man...    4.5  NON CONTRADICTION  \n",
       "2  A group of kids is playing in a yard and an ol...    3.2  NON CONTRADICTION  \n",
       "3  The kids are playing outdoors near a man with ...    4.7  NON CONTRADICTION  \n",
       "5  A group of kids is playing in a yard and an ol...    3.4  NON CONTRADICTION  \n",
       "9  A group of kids is playing in a yard and an ol...    3.7  NON CONTRADICTION  "
      ]
     },
     "execution_count": 83,
     "metadata": {},
     "output_type": "execute_result"
    }
   ],
   "source": [
    "df.head()"
   ]
  },
  {
   "cell_type": "code",
   "execution_count": 84,
   "metadata": {},
   "outputs": [],
   "source": [
    "lbl_enc = preprocessing.LabelEncoder()\n",
    "y = lbl_enc.fit_transform(df.relation.values)"
   ]
  },
  {
   "cell_type": "code",
   "execution_count": 85,
   "metadata": {},
   "outputs": [],
   "source": [
    "# using keras tokenizer here\n",
    "token = text.Tokenizer(num_words=None)\n",
    "max_len = 32\n",
    "\n",
    "token.fit_on_texts(list(df.sentence1) + list(df.sentence2))\n",
    "xtrain_seq = token.texts_to_sequences(df.sentence1)\n",
    "xvalid_seq = token.texts_to_sequences(df.sentence2)\n",
    "\n",
    "# zero pad the sequences\n",
    "xtrain_pad = sequence.pad_sequences(xtrain_seq, maxlen=max_len)\n",
    "xvalid_pad = sequence.pad_sequences(xvalid_seq, maxlen=max_len)\n",
    "\n",
    "word_index = token.word_index\n"
   ]
  },
  {
   "cell_type": "code",
   "execution_count": 86,
   "metadata": {},
   "outputs": [],
   "source": [
    "y = np_utils.to_categorical(y)"
   ]
  },
  {
   "cell_type": "code",
   "execution_count": 104,
   "metadata": {},
   "outputs": [],
   "source": [
    "def buildModel(datalength,labellength):\n",
    "    input1 =tf.keras.Input(shape=(datalength,1),name='input1')\n",
    "    input2 =tf.keras.Input(shape=(datalength,1),name='input2')\n",
    "    \n",
    "    input1layers = LSTM(50,return_sequences=False)(input1)\n",
    "    input2layers = LSTM(50,return_sequences=False)(input2)\n",
    "    concat = Concatenate(axis=1)\n",
    "    hidden = tf.keras.layers.concatenate(inputs=[input1layers,input2layers],axis=1)\n",
    "    hidden1 = Dense(100,activation ='relu')(hidden)\n",
    "    hidden2 = Dense(100,activation ='relu')(hidden1)\n",
    "    output = Dense(labellength, activation ='softmax', name='output')(hidden2)\n",
    "    model = Model(\n",
    "        inputs=\n",
    "        [\n",
    "            input1,\n",
    "            input2\n",
    "        ],\n",
    "        outputs=\n",
    "        [\n",
    "            output\n",
    "        ]\n",
    "    )\n",
    "    model.compile(optimizer ='rmsprop',loss='BinaryCrossentropy', metrics=['accuracy'])\n",
    "    print(model.summary())\n",
    "    return model"
   ]
  },
  {
   "cell_type": "code",
   "execution_count": 105,
   "metadata": {
    "tags": []
   },
   "outputs": [
    {
     "name": "stdout",
     "output_type": "stream",
     "text": [
      "Model: \"functional_23\"\n",
      "__________________________________________________________________________________________________\n",
      "Layer (type)                    Output Shape         Param #     Connected to                     \n",
      "==================================================================================================\n",
      "input1 (InputLayer)             [(None, 32, 1)]      0                                            \n",
      "__________________________________________________________________________________________________\n",
      "input2 (InputLayer)             [(None, 32, 1)]      0                                            \n",
      "__________________________________________________________________________________________________\n",
      "lstm_24 (LSTM)                  (None, 50)           10400       input1[0][0]                     \n",
      "__________________________________________________________________________________________________\n",
      "lstm_25 (LSTM)                  (None, 50)           10400       input2[0][0]                     \n",
      "__________________________________________________________________________________________________\n",
      "concatenate_25 (Concatenate)    (None, 100)          0           lstm_24[0][0]                    \n",
      "                                                                 lstm_25[0][0]                    \n",
      "__________________________________________________________________________________________________\n",
      "dense_24 (Dense)                (None, 100)          10100       concatenate_25[0][0]             \n",
      "__________________________________________________________________________________________________\n",
      "dense_25 (Dense)                (None, 100)          10100       dense_24[0][0]                   \n",
      "__________________________________________________________________________________________________\n",
      "output (Dense)                  (None, 2)            202         dense_25[0][0]                   \n",
      "==================================================================================================\n",
      "Total params: 41,202\n",
      "Trainable params: 41,202\n",
      "Non-trainable params: 0\n",
      "__________________________________________________________________________________________________\n",
      "None\n"
     ]
    }
   ],
   "source": [
    "model = buildModel(32,2)"
   ]
  },
  {
   "cell_type": "code",
   "execution_count": 106,
   "metadata": {
    "tags": []
   },
   "outputs": [
    {
     "name": "stdout",
     "output_type": "stream",
     "text": [
      "Epoch 1/5\n",
      "141/141 [==============================] - 3s 18ms/step - loss: 0.4233 - accuracy: 0.8456\n",
      "Epoch 2/5\n",
      "141/141 [==============================] - 3s 21ms/step - loss: 0.3962 - accuracy: 0.8524\n",
      "Epoch 3/5\n",
      "141/141 [==============================] - 3s 21ms/step - loss: 0.3865 - accuracy: 0.8527\n",
      "Epoch 4/5\n",
      "141/141 [==============================] - 3s 21ms/step - loss: 0.3826 - accuracy: 0.8522\n",
      "Epoch 5/5\n",
      "141/141 [==============================] - 3s 22ms/step - loss: 0.3744 - accuracy: 0.8527\n"
     ]
    },
    {
     "data": {
      "text/plain": [
       "<tensorflow.python.keras.callbacks.History at 0x7f1e72b27d10>"
      ]
     },
     "execution_count": 106,
     "metadata": {},
     "output_type": "execute_result"
    }
   ],
   "source": [
    "model.fit([xtrain_pad,xvalid_pad],y,epochs = 50)"
   ]
  },
  {
   "cell_type": "code",
   "execution_count": 110,
   "metadata": {},
   "outputs": [],
   "source": [
    "text1=\"this is a dog \"\n",
    "text2=\"this is not a  dog\"\n",
    "ytrain_seq = token.texts_to_sequences(text1)\n",
    "yvalid_seq = token.texts_to_sequences(text2)\n",
    "\n",
    "# zero pad the sequences\n",
    "ytrain_pad = sequence.pad_sequences(xtrain_seq, maxlen=max_len)\n",
    "yvalid_pad = sequence.pad_sequences(xvalid_seq, maxlen=max_len)"
   ]
  },
  {
   "cell_type": "code",
   "execution_count": 111,
   "metadata": {},
   "outputs": [],
   "source": [
    "output=model.predict([ytrain_pad,yvalid_pad])"
   ]
  }
 ],
 "metadata": {
  "kernelspec": {
   "display_name": "Python 3",
   "language": "python",
   "name": "python3"
  },
  "language_info": {
   "codemirror_mode": {
    "name": "ipython",
    "version": 3
   },
   "file_extension": ".py",
   "mimetype": "text/x-python",
   "name": "python",
   "nbconvert_exporter": "python",
   "pygments_lexer": "ipython3",
   "version": "3.7.6"
  }
 },
 "nbformat": 4,
 "nbformat_minor": 4
}